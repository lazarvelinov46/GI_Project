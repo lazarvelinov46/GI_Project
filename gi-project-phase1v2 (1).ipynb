{
 "cells": [
  {
   "cell_type": "markdown",
   "metadata": {},
   "source": [
    "Installing scanpy and defining file paths for two anndata objects"
   ]
  },
  {
   "cell_type": "code",
   "execution_count": 1,
   "metadata": {},
   "outputs": [],
   "source": [
    "file_path_brain = 'Mouse_brain_cell_bin.h5ad'\n",
    "file_path_embryo = 'E9.5_E1S1.MOSTA.h5ad'"
   ]
  },
  {
   "cell_type": "code",
   "execution_count": 2,
   "metadata": {
    "editable": true,
    "slideshow": {
     "slide_type": ""
    },
    "tags": []
   },
   "outputs": [
    {
     "name": "stdout",
     "output_type": "stream",
     "text": [
      "Requirement already satisfied: scanpy in /opt/conda/lib/python3.11/site-packages (1.10.1)\n",
      "Requirement already satisfied: anndata>=0.8 in /opt/conda/lib/python3.11/site-packages (from scanpy) (0.10.7)\n",
      "Requirement already satisfied: h5py>=3.1 in /opt/conda/lib/python3.11/site-packages (from scanpy) (3.10.0)\n",
      "Requirement already satisfied: joblib in /opt/conda/lib/python3.11/site-packages (from scanpy) (1.3.2)\n",
      "Requirement already satisfied: legacy-api-wrap>=1.4 in /opt/conda/lib/python3.11/site-packages (from scanpy) (1.4)\n",
      "Requirement already satisfied: matplotlib>=3.6 in /opt/conda/lib/python3.11/site-packages (from scanpy) (3.8.0)\n",
      "Requirement already satisfied: natsort in /opt/conda/lib/python3.11/site-packages (from scanpy) (8.4.0)\n",
      "Requirement already satisfied: networkx>=2.7 in /opt/conda/lib/python3.11/site-packages (from scanpy) (3.1)\n",
      "Requirement already satisfied: numba>=0.56 in /opt/conda/lib/python3.11/site-packages (from scanpy) (0.57.1)\n",
      "Requirement already satisfied: numpy>=1.23 in /opt/conda/lib/python3.11/site-packages (from scanpy) (1.24.4)\n",
      "Requirement already satisfied: packaging>=21.3 in /opt/conda/lib/python3.11/site-packages (from scanpy) (23.2)\n",
      "Requirement already satisfied: pandas>=1.5 in /opt/conda/lib/python3.11/site-packages (from scanpy) (2.1.1)\n",
      "Requirement already satisfied: patsy in /opt/conda/lib/python3.11/site-packages (from scanpy) (0.5.3)\n",
      "Requirement already satisfied: pynndescent>=0.5 in /opt/conda/lib/python3.11/site-packages (from scanpy) (0.5.12)\n",
      "Requirement already satisfied: scikit-learn>=0.24 in /opt/conda/lib/python3.11/site-packages (from scanpy) (1.3.1)\n",
      "Requirement already satisfied: scipy>=1.8 in /opt/conda/lib/python3.11/site-packages (from scanpy) (1.11.3)\n",
      "Requirement already satisfied: seaborn>=0.13 in /opt/conda/lib/python3.11/site-packages (from scanpy) (0.13.0)\n",
      "Requirement already satisfied: session-info in /opt/conda/lib/python3.11/site-packages (from scanpy) (1.0.0)\n",
      "Requirement already satisfied: statsmodels>=0.13 in /opt/conda/lib/python3.11/site-packages (from scanpy) (0.14.0)\n",
      "Requirement already satisfied: tqdm in /opt/conda/lib/python3.11/site-packages (from scanpy) (4.66.1)\n",
      "Requirement already satisfied: umap-learn!=0.5.0,>=0.5 in /opt/conda/lib/python3.11/site-packages (from scanpy) (0.5.6)\n",
      "Requirement already satisfied: array-api-compat!=1.5,>1.4 in /opt/conda/lib/python3.11/site-packages (from anndata>=0.8->scanpy) (1.6)\n",
      "Requirement already satisfied: contourpy>=1.0.1 in /opt/conda/lib/python3.11/site-packages (from matplotlib>=3.6->scanpy) (1.1.1)\n",
      "Requirement already satisfied: cycler>=0.10 in /opt/conda/lib/python3.11/site-packages (from matplotlib>=3.6->scanpy) (0.12.1)\n",
      "Requirement already satisfied: fonttools>=4.22.0 in /opt/conda/lib/python3.11/site-packages (from matplotlib>=3.6->scanpy) (4.43.1)\n",
      "Requirement already satisfied: kiwisolver>=1.0.1 in /opt/conda/lib/python3.11/site-packages (from matplotlib>=3.6->scanpy) (1.4.5)\n",
      "Requirement already satisfied: pillow>=6.2.0 in /opt/conda/lib/python3.11/site-packages (from matplotlib>=3.6->scanpy) (10.1.0)\n",
      "Requirement already satisfied: pyparsing>=2.3.1 in /opt/conda/lib/python3.11/site-packages (from matplotlib>=3.6->scanpy) (3.1.1)\n",
      "Requirement already satisfied: python-dateutil>=2.7 in /opt/conda/lib/python3.11/site-packages (from matplotlib>=3.6->scanpy) (2.8.2)\n",
      "Requirement already satisfied: llvmlite<0.41,>=0.40.0dev0 in /opt/conda/lib/python3.11/site-packages (from numba>=0.56->scanpy) (0.40.1)\n",
      "Requirement already satisfied: pytz>=2020.1 in /opt/conda/lib/python3.11/site-packages (from pandas>=1.5->scanpy) (2023.3.post1)\n",
      "Requirement already satisfied: tzdata>=2022.1 in /opt/conda/lib/python3.11/site-packages (from pandas>=1.5->scanpy) (2023.3)\n",
      "Requirement already satisfied: threadpoolctl>=2.0.0 in /opt/conda/lib/python3.11/site-packages (from scikit-learn>=0.24->scanpy) (3.2.0)\n",
      "Requirement already satisfied: six in /opt/conda/lib/python3.11/site-packages (from patsy->scanpy) (1.16.0)\n",
      "Requirement already satisfied: stdlib-list in /opt/conda/lib/python3.11/site-packages (from session-info->scanpy) (0.10.0)\n"
     ]
    }
   ],
   "source": [
    "!pip install scanpy"
   ]
  },
  {
   "cell_type": "markdown",
   "metadata": {},
   "source": [
    "Importing necessary packages and reading anndata objects with scanpy"
   ]
  },
  {
   "cell_type": "code",
   "execution_count": 3,
   "metadata": {
    "_cell_guid": "b1076dfc-b9ad-4769-8c92-a6c4dae69d19",
    "_uuid": "8f2839f25d086af736a60e9eeb907d3b93b6e0e5",
    "editable": true,
    "slideshow": {
     "slide_type": ""
    },
    "tags": []
   },
   "outputs": [],
   "source": [
    "\n",
    "import numpy as np\n",
    "import scanpy as sc"
   ]
  },
  {
   "cell_type": "code",
   "execution_count": 4,
   "metadata": {
    "editable": true,
    "slideshow": {
     "slide_type": ""
    },
    "tags": []
   },
   "outputs": [
    {
     "name": "stdout",
     "output_type": "stream",
     "text": [
      "WARNING: Your filename has more than two extensions: ['.5_E1S1', '.MOSTA', '.h5ad'].\n",
      "Only considering the two last: ['.MOSTA', '.h5ad'].\n",
      "WARNING: Your filename has more than two extensions: ['.5_E1S1', '.MOSTA', '.h5ad'].\n",
      "Only considering the two last: ['.MOSTA', '.h5ad'].\n"
     ]
    }
   ],
   "source": [
    "anndata_brain=sc.read(file_path_brain)\n",
    "anndata_embryo=sc.read(file_path_embryo)"
   ]
  },
  {
   "cell_type": "markdown",
   "metadata": {},
   "source": [
    "There are two steps in preprocessing section:\n",
    "\n",
    "Filtering - removing genes which are pressent in low number of cells (less than 10)\n",
    "\n",
    "Normalization and log transformation - ensuring that cells participate equally in analysis and reducing range of expression values (stabilizes variance). This improves performance of analysis"
   ]
  },
  {
   "cell_type": "code",
   "execution_count": 5,
   "metadata": {
    "editable": true,
    "slideshow": {
     "slide_type": ""
    },
    "tags": []
   },
   "outputs": [],
   "source": [
    "sc.pp.filter_genes(anndata_embryo, min_cells=10)\n",
    "sc.pp.filter_genes(anndata_brain, min_cells=10)\n",
    "sc.pp.normalize_total(anndata_embryo, inplace=True)\n",
    "sc.pp.log1p(anndata_embryo)\n",
    "sc.pp.normalize_total(anndata_brain, inplace=True)\n",
    "sc.pp.log1p(anndata_brain)"
   ]
  },
  {
   "cell_type": "code",
   "execution_count": 6,
   "metadata": {},
   "outputs": [
    {
     "name": "stdout",
     "output_type": "stream",
     "text": [
      "5913\n",
      "20055\n",
      "50140\n",
      "20379\n"
     ]
    }
   ],
   "source": [
    "print(len(anndata_embryo.obs_names))\n",
    "print(len(anndata_embryo.var_names))\n",
    "print(len(anndata_brain.obs_names))\n",
    "print(len(anndata_brain.var_names))"
   ]
  },
  {
   "cell_type": "markdown",
   "metadata": {},
   "source": [
    "Python implementation of algorithm for detecting SVG using Moran's I statistic.\n",
    "First, distance matrix is calculated for spatial coordinates of anndata object, and based on that matrix, weight matrix is calculated as inversed distances. After we have weight matrix, we can calculate Moran's I score for each gene using parallel computation. For each gene morans_i function is called with two parameters: gene_expression and weight matrix.\n",
    "In morans_i function we need to calculate mean_expression and expression_diff so that we can use those values in Moran's I formula. After implementing formula, Moran's I score is returned and based on that score and threshold, it is decided whether gene is spatially variable. Finally, list of spatially variable genes is returned."
   ]
  },
  {
   "cell_type": "code",
   "execution_count": 7,
   "metadata": {},
   "outputs": [],
   "source": [
    "from scipy.spatial import distance_matrix\n",
    "from joblib import Parallel, delayed\n",
    "import numba\n",
    "import pandas as pd\n",
    "\n",
    "@numba.jit(nopython=True)\n",
    "def morans_i(gene_expression,weight):\n",
    "    mean_expression=np.mean(gene_expression)\n",
    "    expression_diff=gene_expression-mean_expression\n",
    "    numerator=np.sum(weight*np.outer(expression_diff,expression_diff))\n",
    "    denominator=np.sum(expression_diff**2)\n",
    "    morans=(len(gene_expression)/np.sum(weight))*(numerator/denominator)\n",
    "    return morans\n",
    "\n",
    "def compute_svgs(anndata,threshold):\n",
    "    spatial=anndata.obsm['spatial']\n",
    "    genes=anndata.var_names\n",
    "    gene_expressions=anndata.X\n",
    "    dist_matrix=distance_matrix(spatial,spatial)\n",
    "    np.fill_diagonal(dist_matrix,np.inf)\n",
    "    weight=1/dist_matrix\n",
    "    results=Parallel(n_jobs=36)(delayed(morans_i)(gene_expressions[:,gene].toarray().flatten(),weight) for gene in range(gene_expressions.shape[1]))\n",
    "    morans_i_series = pd.Series(results, index=genes)\n",
    "    print(morans_i_series.describe())\n",
    "    print(morans_i_series.head(10)) \n",
    "    svg_genes = [genes[i] for i, morans_i in enumerate(results) if morans_i > threshold]\n",
    "    return svg_genes"
   ]
  },
  {
   "cell_type": "markdown",
   "metadata": {},
   "source": [
    "Calculating SVG for embryo"
   ]
  },
  {
   "cell_type": "code",
   "execution_count": 31,
   "metadata": {},
   "outputs": [
    {
     "name": "stdout",
     "output_type": "stream",
     "text": [
      "count    20055.000000\n",
      "mean         0.004387\n",
      "std          0.011410\n",
      "min         -0.000896\n",
      "25%          0.000151\n",
      "50%          0.001178\n",
      "75%          0.003691\n",
      "max          0.206134\n",
      "dtype: float64\n",
      "gene_short_name\n",
      "1700007G11Rik    0.004909\n",
      "1700123O20Rik    0.002575\n",
      "1810030O07Rik    0.001203\n",
      "2010107E04Rik    0.011950\n",
      "2210016F16Rik    0.000469\n",
      "2600014E21Rik    0.004014\n",
      "2610001J05Rik    0.002519\n",
      "2810429I04Rik    0.002157\n",
      "3830406C13Rik    0.000383\n",
      "4930481A15Rik    0.011499\n",
      "dtype: float64\n",
      "1998\n"
     ]
    }
   ],
   "source": [
    "threshold=0.01\n",
    "\n",
    "svg_embryo=compute_svgs(anndata_embryo,threshold)\n",
    "\n",
    "print(len(svg_embryo))"
   ]
  },
  {
   "cell_type": "markdown",
   "metadata": {},
   "source": [
    "Saving svg_embryo to txt file"
   ]
  },
  {
   "cell_type": "code",
   "execution_count": 24,
   "metadata": {},
   "outputs": [],
   "source": [
    "def save_genes_to_txt(genes, filename):\n",
    "    with open(filename, 'w') as file:\n",
    "        for gene in genes:\n",
    "            file.write(gene + '\\n')"
   ]
  },
  {
   "cell_type": "code",
   "execution_count": 32,
   "metadata": {},
   "outputs": [],
   "source": [
    "embryo_filename = 'svg_genes_embryo_moranI.txt'\n",
    "\n",
    "save_genes_to_txt(svg_embryo, embryo_filename)"
   ]
  },
  {
   "cell_type": "markdown",
   "metadata": {},
   "source": [
    "Basically same algorithm used for calculating SVG for embryo, but with optimizations in calculating weight matrix and passing weight matrix to morans_i as sparse matrix. Optimizations are done because of large spatial matrix in anndata_brain object"
   ]
  },
  {
   "cell_type": "code",
   "execution_count": 18,
   "metadata": {},
   "outputs": [],
   "source": [
    "from scipy.spatial import cKDTree\n",
    "from scipy.sparse import csr_matrix\n",
    "\n",
    "def morans_i_sparse(gene_expression,weight_data,weight_indices,weight_ptr):\n",
    "    mean_expression=np.mean(gene_expression)\n",
    "    expression_diff=gene_expression-mean_expression\n",
    "    numerator=0\n",
    "    for i in range(len(gene_expression)):\n",
    "        for j in range(weight_ptr[i],weight_ptr[i+1]):\n",
    "            k=weight_indices[j]\n",
    "            numerator+=weight_data[j]*expression_diff[i]*expression_diff[k]\n",
    "    denominator=np.sum(expression_diff**2)\n",
    "    morans=(len(gene_expression)/np.sum(weight_data))*(numerator/denominator)\n",
    "    return morans\n",
    "    \n",
    "\n",
    "def compute_weight(spatial,k=5):\n",
    "    tree=cKDTree(spatial)\n",
    "    distances,indices=tree.query(spatial,k=k+1)\n",
    "    distances=distances[:,1:]\n",
    "    indices=indices[:,1:]\n",
    "    weights=1/distances\n",
    "    rows=np.repeat(np.arange(spatial.shape[0]),k)\n",
    "    cols=indices.flatten()\n",
    "    data=weights.flatten()\n",
    "    weight_mat=csr_matrix((data,(rows,cols)),shape=(spatial.shape[0],spatial.shape[0]))\n",
    "    return weight_mat\n",
    "\n",
    "def compute_svgs_batch(anndata,threshold,k=5):\n",
    "    spatial=anndata.obsm['spatial']\n",
    "    genes=anndata.var_names\n",
    "    gene_expressions=anndata.X\n",
    "    weight_mat=compute_weight(spatial,k=k)\n",
    "    weight_data=weight_mat.data\n",
    "    weight_indices=weight_mat.indices\n",
    "    weight_ptr=weight_mat.indptr\n",
    "\n",
    "    def process_gene(gene_id):\n",
    "        gene_expression=gene_expressions[:,gene_id].toarray().flatten()\n",
    "        return morans_i_sparse(gene_expression,weight_data,weight_indices,weight_ptr)\n",
    "\n",
    "    results=Parallel(n_jobs=48)(delayed(process_gene)(gene) for gene in range(gene_expressions.shape[1]))\n",
    "    morans_i_series = pd.Series(results, index=genes)\n",
    "    print(morans_i_series.describe())\n",
    "    print(morans_i_series.head(10)) \n",
    "    svg_genes = [genes[i] for i, morans_i in enumerate(results) if morans_i > threshold]\n",
    "    return svg_genes"
   ]
  },
  {
   "cell_type": "markdown",
   "metadata": {},
   "source": [
    "Calculating SVG for brain"
   ]
  },
  {
   "cell_type": "code",
   "execution_count": 22,
   "metadata": {},
   "outputs": [
    {
     "name": "stdout",
     "output_type": "stream",
     "text": [
      "count    20379.000000\n",
      "mean         0.007564\n",
      "std          0.021108\n",
      "min         -0.008232\n",
      "25%         -0.000432\n",
      "50%          0.001960\n",
      "75%          0.007391\n",
      "max          0.509993\n",
      "dtype: float64\n",
      "0610005C13Rik   -0.000759\n",
      "0610009B22Rik    0.002740\n",
      "0610009O20Rik   -0.002803\n",
      "0610010F05Rik    0.005186\n",
      "0610010K14Rik    0.004142\n",
      "0610012G03Rik    0.008426\n",
      "0610025J13Rik   -0.000152\n",
      "0610030E20Rik    0.002169\n",
      "0610037L13Rik    0.004722\n",
      "0610038B21Rik    0.001794\n",
      "dtype: float64\n",
      "1954\n"
     ]
    }
   ],
   "source": [
    "threshold=0.02\n",
    "\n",
    "svg_brain=compute_svgs_batch(anndata_brain,threshold)\n",
    "\n",
    "print(len(svg_brain))"
   ]
  },
  {
   "cell_type": "markdown",
   "metadata": {},
   "source": [
    "Saving svg_brain to txt file"
   ]
  },
  {
   "cell_type": "code",
   "execution_count": 25,
   "metadata": {},
   "outputs": [],
   "source": [
    "brain_filename = 'svg_genes_brain_moranI.txt'\n",
    "\n",
    "save_genes_to_txt(svg_brain, brain_filename)"
   ]
  }
 ],
 "metadata": {
  "kaggle": {
   "accelerator": "none",
   "dataSources": [
    {
     "datasetId": 4873318,
     "sourceId": 8220440,
     "sourceType": "datasetVersion"
    }
   ],
   "dockerImageVersionId": 30698,
   "isGpuEnabled": false,
   "isInternetEnabled": true,
   "language": "python",
   "sourceType": "notebook"
  },
  "kernelspec": {
   "display_name": "Python 3 (ipykernel)",
   "language": "python",
   "name": "python3"
  },
  "language_info": {
   "codemirror_mode": {
    "name": "ipython",
    "version": 3
   },
   "file_extension": ".py",
   "mimetype": "text/x-python",
   "name": "python",
   "nbconvert_exporter": "python",
   "pygments_lexer": "ipython3",
   "version": "3.11.6"
  }
 },
 "nbformat": 4,
 "nbformat_minor": 4
}
