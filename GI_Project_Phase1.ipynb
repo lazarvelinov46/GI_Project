{
  "nbformat": 4,
  "nbformat_minor": 0,
  "metadata": {
    "colab": {
      "provenance": []
    },
    "kernelspec": {
      "name": "python3",
      "display_name": "Python 3"
    },
    "language_info": {
      "name": "python"
    }
  },
  "cells": [
    {
      "cell_type": "code",
      "execution_count": 2,
      "metadata": {
        "colab": {
          "base_uri": "https://localhost:8080/"
        },
        "id": "OFQXgIPUfwri",
        "outputId": "1d9b9078-8d65-4732-d989-eb1b97c3ca41"
      },
      "outputs": [
        {
          "output_type": "stream",
          "name": "stdout",
          "text": [
            "Mounted at /content/drive\n"
          ]
        }
      ],
      "source": [
        "from google.colab import drive\n",
        "drive.mount('/content/drive')\n"
      ]
    },
    {
      "cell_type": "code",
      "source": [
        "file_path_brain = '/content/drive/My Drive/GI_Data/Mouse_brain_cell_bin.h5ad'\n",
        "file_path_embryo = '/content/drive/My Drive/GI_Data/E9.5_E1S1.MOSTA.h5ad'\n"
      ],
      "metadata": {
        "id": "Q2V0BKWwf2y3"
      },
      "execution_count": 3,
      "outputs": []
    },
    {
      "cell_type": "code",
      "source": [
        "!pip install scanpy\n",
        "\n",
        "import numpy as np\n",
        "import scanpy as sc"
      ],
      "metadata": {
        "colab": {
          "base_uri": "https://localhost:8080/"
        },
        "id": "2ZzA0jW9f7vQ",
        "outputId": "f5b5b9d8-ec8e-4428-fe87-cff0504b21c6"
      },
      "execution_count": 4,
      "outputs": [
        {
          "output_type": "stream",
          "name": "stdout",
          "text": [
            "Collecting scanpy\n",
            "  Downloading scanpy-1.10.1-py3-none-any.whl (2.1 MB)\n",
            "\u001b[2K     \u001b[90m━━━━━━━━━━━━━━━━━━━━━━━━━━━━━━━━━━━━━━━━\u001b[0m \u001b[32m2.1/2.1 MB\u001b[0m \u001b[31m18.0 MB/s\u001b[0m eta \u001b[36m0:00:00\u001b[0m\n",
            "\u001b[?25hCollecting anndata>=0.8 (from scanpy)\n",
            "  Downloading anndata-0.10.7-py3-none-any.whl (122 kB)\n",
            "\u001b[2K     \u001b[90m━━━━━━━━━━━━━━━━━━━━━━━━━━━━━━━━━━━━━━━━\u001b[0m \u001b[32m122.4/122.4 kB\u001b[0m \u001b[31m15.4 MB/s\u001b[0m eta \u001b[36m0:00:00\u001b[0m\n",
            "\u001b[?25hRequirement already satisfied: h5py>=3.1 in /usr/local/lib/python3.10/dist-packages (from scanpy) (3.9.0)\n",
            "Requirement already satisfied: joblib in /usr/local/lib/python3.10/dist-packages (from scanpy) (1.4.2)\n",
            "Collecting legacy-api-wrap>=1.4 (from scanpy)\n",
            "  Downloading legacy_api_wrap-1.4-py3-none-any.whl (15 kB)\n",
            "Requirement already satisfied: matplotlib>=3.6 in /usr/local/lib/python3.10/dist-packages (from scanpy) (3.7.1)\n",
            "Requirement already satisfied: natsort in /usr/local/lib/python3.10/dist-packages (from scanpy) (8.4.0)\n",
            "Requirement already satisfied: networkx>=2.7 in /usr/local/lib/python3.10/dist-packages (from scanpy) (3.3)\n",
            "Requirement already satisfied: numba>=0.56 in /usr/local/lib/python3.10/dist-packages (from scanpy) (0.58.1)\n",
            "Requirement already satisfied: numpy>=1.23 in /usr/local/lib/python3.10/dist-packages (from scanpy) (1.25.2)\n",
            "Requirement already satisfied: packaging>=21.3 in /usr/local/lib/python3.10/dist-packages (from scanpy) (24.0)\n",
            "Requirement already satisfied: pandas>=1.5 in /usr/local/lib/python3.10/dist-packages (from scanpy) (2.0.3)\n",
            "Requirement already satisfied: patsy in /usr/local/lib/python3.10/dist-packages (from scanpy) (0.5.6)\n",
            "Collecting pynndescent>=0.5 (from scanpy)\n",
            "  Downloading pynndescent-0.5.12-py3-none-any.whl (56 kB)\n",
            "\u001b[2K     \u001b[90m━━━━━━━━━━━━━━━━━━━━━━━━━━━━━━━━━━━━━━━━\u001b[0m \u001b[32m56.8/56.8 kB\u001b[0m \u001b[31m6.5 MB/s\u001b[0m eta \u001b[36m0:00:00\u001b[0m\n",
            "\u001b[?25hRequirement already satisfied: scikit-learn>=0.24 in /usr/local/lib/python3.10/dist-packages (from scanpy) (1.2.2)\n",
            "Requirement already satisfied: scipy>=1.8 in /usr/local/lib/python3.10/dist-packages (from scanpy) (1.11.4)\n",
            "Requirement already satisfied: seaborn>=0.13 in /usr/local/lib/python3.10/dist-packages (from scanpy) (0.13.1)\n",
            "Collecting session-info (from scanpy)\n",
            "  Downloading session_info-1.0.0.tar.gz (24 kB)\n",
            "  Preparing metadata (setup.py) ... \u001b[?25l\u001b[?25hdone\n",
            "Requirement already satisfied: statsmodels>=0.13 in /usr/local/lib/python3.10/dist-packages (from scanpy) (0.14.2)\n",
            "Requirement already satisfied: tqdm in /usr/local/lib/python3.10/dist-packages (from scanpy) (4.66.4)\n",
            "Collecting umap-learn!=0.5.0,>=0.5 (from scanpy)\n",
            "  Downloading umap_learn-0.5.6-py3-none-any.whl (85 kB)\n",
            "\u001b[2K     \u001b[90m━━━━━━━━━━━━━━━━━━━━━━━━━━━━━━━━━━━━━━━━\u001b[0m \u001b[32m85.7/85.7 kB\u001b[0m \u001b[31m10.9 MB/s\u001b[0m eta \u001b[36m0:00:00\u001b[0m\n",
            "\u001b[?25hCollecting array-api-compat!=1.5,>1.4 (from anndata>=0.8->scanpy)\n",
            "  Downloading array_api_compat-1.6-py3-none-any.whl (36 kB)\n",
            "Requirement already satisfied: exceptiongroup in /usr/local/lib/python3.10/dist-packages (from anndata>=0.8->scanpy) (1.2.1)\n",
            "Requirement already satisfied: contourpy>=1.0.1 in /usr/local/lib/python3.10/dist-packages (from matplotlib>=3.6->scanpy) (1.2.1)\n",
            "Requirement already satisfied: cycler>=0.10 in /usr/local/lib/python3.10/dist-packages (from matplotlib>=3.6->scanpy) (0.12.1)\n",
            "Requirement already satisfied: fonttools>=4.22.0 in /usr/local/lib/python3.10/dist-packages (from matplotlib>=3.6->scanpy) (4.51.0)\n",
            "Requirement already satisfied: kiwisolver>=1.0.1 in /usr/local/lib/python3.10/dist-packages (from matplotlib>=3.6->scanpy) (1.4.5)\n",
            "Requirement already satisfied: pillow>=6.2.0 in /usr/local/lib/python3.10/dist-packages (from matplotlib>=3.6->scanpy) (9.4.0)\n",
            "Requirement already satisfied: pyparsing>=2.3.1 in /usr/local/lib/python3.10/dist-packages (from matplotlib>=3.6->scanpy) (3.1.2)\n",
            "Requirement already satisfied: python-dateutil>=2.7 in /usr/local/lib/python3.10/dist-packages (from matplotlib>=3.6->scanpy) (2.8.2)\n",
            "Requirement already satisfied: llvmlite<0.42,>=0.41.0dev0 in /usr/local/lib/python3.10/dist-packages (from numba>=0.56->scanpy) (0.41.1)\n",
            "Requirement already satisfied: pytz>=2020.1 in /usr/local/lib/python3.10/dist-packages (from pandas>=1.5->scanpy) (2023.4)\n",
            "Requirement already satisfied: tzdata>=2022.1 in /usr/local/lib/python3.10/dist-packages (from pandas>=1.5->scanpy) (2024.1)\n",
            "Requirement already satisfied: threadpoolctl>=2.0.0 in /usr/local/lib/python3.10/dist-packages (from scikit-learn>=0.24->scanpy) (3.5.0)\n",
            "Requirement already satisfied: six in /usr/local/lib/python3.10/dist-packages (from patsy->scanpy) (1.16.0)\n",
            "Collecting stdlib_list (from session-info->scanpy)\n",
            "  Downloading stdlib_list-0.10.0-py3-none-any.whl (79 kB)\n",
            "\u001b[2K     \u001b[90m━━━━━━━━━━━━━━━━━━━━━━━━━━━━━━━━━━━━━━━━\u001b[0m \u001b[32m79.8/79.8 kB\u001b[0m \u001b[31m9.0 MB/s\u001b[0m eta \u001b[36m0:00:00\u001b[0m\n",
            "\u001b[?25hBuilding wheels for collected packages: session-info\n",
            "  Building wheel for session-info (setup.py) ... \u001b[?25l\u001b[?25hdone\n",
            "  Created wheel for session-info: filename=session_info-1.0.0-py3-none-any.whl size=8026 sha256=4cbc430aa85ab1e059d1066791d0dc16e2a27a81bfcac1af7b719a9d80c7c9ee\n",
            "  Stored in directory: /root/.cache/pip/wheels/6a/aa/b9/eb5d4031476ec10802795b97ccf937b9bd998d68a9b268765a\n",
            "Successfully built session-info\n",
            "Installing collected packages: array-api-compat, stdlib_list, legacy-api-wrap, session-info, pynndescent, anndata, umap-learn, scanpy\n",
            "Successfully installed anndata-0.10.7 array-api-compat-1.6 legacy-api-wrap-1.4 pynndescent-0.5.12 scanpy-1.10.1 session-info-1.0.0 stdlib_list-0.10.0 umap-learn-0.5.6\n"
          ]
        }
      ]
    },
    {
      "cell_type": "code",
      "source": [
        "anndata_brain=sc.read(file_path_brain)\n",
        "anndata_embryo=sc.read(file_path_embryo)"
      ],
      "metadata": {
        "colab": {
          "base_uri": "https://localhost:8080/"
        },
        "id": "K2XvcA9Mf9-2",
        "outputId": "3b53bf5d-0d9f-4a5b-c51b-7eb8886743ed"
      },
      "execution_count": 5,
      "outputs": [
        {
          "output_type": "stream",
          "name": "stdout",
          "text": [
            "WARNING: Your filename has more than two extensions: ['.5_E1S1', '.MOSTA', '.h5ad'].\n",
            "Only considering the two last: ['.MOSTA', '.h5ad'].\n",
            "WARNING: Your filename has more than two extensions: ['.5_E1S1', '.MOSTA', '.h5ad'].\n",
            "Only considering the two last: ['.MOSTA', '.h5ad'].\n"
          ]
        }
      ]
    },
    {
      "cell_type": "code",
      "source": [
        "# QC\n",
        "sc.pp.filter_genes(anndata_embryo, min_cells=10)\n",
        "sc.pp.filter_genes(anndata_brain, min_cells=10)\n",
        "# Normalization\n",
        "sc.pp.normalize_total(anndata_embryo, inplace=True)\n",
        "sc.pp.log1p(anndata_embryo)\n",
        "sc.pp.normalize_total(anndata_brain, inplace=True)\n",
        "sc.pp.log1p(anndata_brain)"
      ],
      "metadata": {
        "id": "EMtvasfQghL9"
      },
      "execution_count": 6,
      "outputs": []
    },
    {
      "cell_type": "code",
      "source": [
        "print(anndata_embryo)\n",
        "print(anndata_brain)"
      ],
      "metadata": {
        "colab": {
          "base_uri": "https://localhost:8080/"
        },
        "id": "z-sHV6MUaARw",
        "outputId": "e7557b79-5d93-4c30-c7ba-7bc675fd91b5"
      },
      "execution_count": 7,
      "outputs": [
        {
          "output_type": "stream",
          "name": "stdout",
          "text": [
            "AnnData object with n_obs × n_vars = 5913 × 20055\n",
            "    obs: 'n_genes_by_counts', 'log1p_n_genes_by_counts', 'total_counts', 'log1p_total_counts', 'annotation', 'Regulon - 2310011J03Rik', 'Regulon - 5730507C01Rik', 'Regulon - Alx1', 'Regulon - Alx3', 'Regulon - Alx4', 'Regulon - Ar', 'Regulon - Arid3a', 'Regulon - Arid3c', 'Regulon - Arnt2', 'Regulon - Arx', 'Regulon - Ascl1', 'Regulon - Atf1', 'Regulon - Atf4', 'Regulon - Atf5', 'Regulon - Atf6', 'Regulon - Atf7', 'Regulon - Bach1', 'Regulon - Bach2', 'Regulon - Barhl1', 'Regulon - Barx1', 'Regulon - Batf', 'Regulon - Bcl11a', 'Regulon - Bcl3', 'Regulon - Bcl6', 'Regulon - Bcl6b', 'Regulon - Bclaf1', 'Regulon - Bdp1', 'Regulon - Bhlha15', 'Regulon - Bhlhe22', 'Regulon - Bhlhe23', 'Regulon - Bhlhe41', 'Regulon - Bmyc', 'Regulon - Boll', 'Regulon - Bptf', 'Regulon - Brca1', 'Regulon - Brf1', 'Regulon - Brf2', 'Regulon - Bsx', 'Regulon - Cdx1', 'Regulon - Cdx2', 'Regulon - Cebpa', 'Regulon - Cebpz', 'Regulon - Chd1', 'Regulon - Clock', 'Regulon - Creb1', 'Regulon - Creb3', 'Regulon - Creb3l1', 'Regulon - Creb3l2', 'Regulon - Crebl2', 'Regulon - Crem', 'Regulon - Crx', 'Regulon - Ctcf', 'Regulon - Cux1', 'Regulon - D3Ertd254e', 'Regulon - Dbx1', 'Regulon - Dbx2', 'Regulon - Ddit3', 'Regulon - Deaf1', 'Regulon - Dlx1', 'Regulon - Dlx2', 'Regulon - Dlx4', 'Regulon - Dlx5', 'Regulon - Dlx6', 'Regulon - Dmbx1', 'Regulon - Dmrt2', 'Regulon - Dmrt3', 'Regulon - Duxf3', 'Regulon - E2f1', 'Regulon - E2f2', 'Regulon - E2f3', 'Regulon - E2f4', 'Regulon - E2f5', 'Regulon - E2f6', 'Regulon - E2f7', 'Regulon - E2f8', 'Regulon - E4f1', 'Regulon - Ebf1', 'Regulon - Egr2', 'Regulon - Egr3', 'Regulon - Egr4', 'Regulon - Elf1', 'Regulon - Elf2', 'Regulon - Elk1', 'Regulon - Elk3', 'Regulon - Emx1', 'Regulon - Emx2', 'Regulon - En1', 'Regulon - En2', 'Regulon - Ep300', 'Regulon - Erf', 'Regulon - Erg', 'Regulon - Esrra', 'Regulon - Esrrb', 'Regulon - Esrrg', 'Regulon - Ets1', 'Regulon - Ets2', 'Regulon - Etv1', 'Regulon - Etv2', 'Regulon - Etv3', 'Regulon - Etv4', 'Regulon - Etv5', 'Regulon - Etv6', 'Regulon - Evx1', 'Regulon - Evx2', 'Regulon - Ezh2', 'Regulon - Fev', 'Regulon - Figla', 'Regulon - Fli1', 'Regulon - Fos', 'Regulon - Fosb', 'Regulon - Foxa1', 'Regulon - Foxa2', 'Regulon - Foxa3', 'Regulon - Foxc2', 'Regulon - Foxd1', 'Regulon - Foxd3', 'Regulon - Foxf1', 'Regulon - Foxf2', 'Regulon - Foxg1', 'Regulon - Foxj1', 'Regulon - Foxj2', 'Regulon - Foxj3', 'Regulon - Foxk1', 'Regulon - Foxk2', 'Regulon - Foxn3', 'Regulon - Foxn4', 'Regulon - Foxo1', 'Regulon - Foxo4', 'Regulon - Foxp2', 'Regulon - Foxp3', 'Regulon - Foxp4', 'Regulon - Gabpa', 'Regulon - Gata1', 'Regulon - Gata2', 'Regulon - Gata3', 'Regulon - Gata4', 'Regulon - Gata5', 'Regulon - Gata6', 'Regulon - Gbx1', 'Regulon - Gbx2', 'Regulon - Gcm1', 'Regulon - Gcm2', 'Regulon - Gfi1', 'Regulon - Gli1', 'Regulon - Glis2', 'Regulon - Gm14391', 'Regulon - Gm14406', 'Regulon - Gm14440', 'Regulon - Gm14443', 'Regulon - Gm28047', 'Regulon - Gm28308', 'Regulon - Gm4881', 'Regulon - Gmeb1', 'Regulon - Grhl1', 'Regulon - Grhl2', 'Regulon - Gsc2', 'Regulon - Gsx1', 'Regulon - Gtf2f1', 'Regulon - Gtf3c2', 'Regulon - Hcfc1', 'Regulon - Hdac2', 'Regulon - Hes1', 'Regulon - Hic1', 'Regulon - Hic2', 'Regulon - Hivep2', 'Regulon - Hlf', 'Regulon - Hmgb2', 'Regulon - Hmgn3', 'Regulon - Hmx1', 'Regulon - Hmx2', 'Regulon - Hnf1b', 'Regulon - Hnf4a', 'Regulon - Hnf4g', 'Regulon - Hoxa10', 'Regulon - Hoxa3', 'Regulon - Hoxa5', 'Regulon - Hoxa7', 'Regulon - Hoxa9', 'Regulon - Hoxb1', 'Regulon - Hoxb3', 'Regulon - Hoxb4', 'Regulon - Hoxb5', 'Regulon - Hoxb6', 'Regulon - Hoxb7', 'Regulon - Hoxb8', 'Regulon - Hoxb9', 'Regulon - Hoxc10', 'Regulon - Hoxc11', 'Regulon - Hoxc13', 'Regulon - Hoxc4', 'Regulon - Hoxc5', 'Regulon - Hoxc6', 'Regulon - Hoxc8', 'Regulon - Hoxc9', 'Regulon - Hoxd1', 'Regulon - Hoxd3', 'Regulon - Hoxd8', 'Regulon - Hoxd9', 'Regulon - Hsf1', 'Regulon - Hsf4', 'Regulon - Irf1', 'Regulon - Irf2', 'Regulon - Irf3', 'Regulon - Irf4', 'Regulon - Irf5', 'Regulon - Irf6', 'Regulon - Irf7', 'Regulon - Irf8', 'Regulon - Irf9', 'Regulon - Irx1', 'Regulon - Jdp2', 'Regulon - Jun', 'Regulon - Jund', 'Regulon - Kat2a', 'Regulon - Kdm4b', 'Regulon - Kdm5a', 'Regulon - Kdm5b', 'Regulon - Kdm7a', 'Regulon - Klf1', 'Regulon - Klf11', 'Regulon - Klf14', 'Regulon - Klf15', 'Regulon - Klf3', 'Regulon - Klf4', 'Regulon - Klf5', 'Regulon - Klf6', 'Regulon - Klf8', 'Regulon - Klf9', 'Regulon - Lbx1', 'Regulon - Lbx2', 'Regulon - Lef1', 'Regulon - Lhx1', 'Regulon - Lhx2', 'Regulon - Lhx4', 'Regulon - Lhx5', 'Regulon - Lhx6', 'Regulon - Lhx8', 'Regulon - Lhx9', 'Regulon - Lmo2', 'Regulon - Lmx1a', 'Regulon - Lmx1b', 'Regulon - Maf', 'Regulon - Mafa', 'Regulon - Mafb', 'Regulon - Mafg', 'Regulon - Mafk', 'Regulon - Max', 'Regulon - Maz', 'Regulon - Mbd1', 'Regulon - Mbnl2', 'Regulon - Mecom', 'Regulon - Mef2a', 'Regulon - Mef2b', 'Regulon - Mef2c', 'Regulon - Mef2d', 'Regulon - Meis1', 'Regulon - Meox1', 'Regulon - Meox2', 'Regulon - Mesp2', 'Regulon - Mga', 'Regulon - Mitf', 'Regulon - Mlx', 'Regulon - Mnx1', 'Regulon - Msx2', 'Regulon - Msx3', 'Regulon - Mxi1', 'Regulon - Myb', 'Regulon - Mybl1', 'Regulon - Myc', 'Regulon - Mycn', 'Regulon - Myf5', 'Regulon - Myf6', 'Regulon - Myod1', 'Regulon - Myog', 'Regulon - Nelfe', 'Regulon - Neurod1', 'Regulon - Nfatc1', 'Regulon - Nfatc4', 'Regulon - Nfe2', 'Regulon - Nfe2l1', 'Regulon - Nfe2l2', 'Regulon - Nfic', 'Regulon - Nfkb1', 'Regulon - Nfya', 'Regulon - Nfyb', 'Regulon - Nhlh2', 'Regulon - Nkx1-1', 'Regulon - Nkx2-1', 'Regulon - Nkx3-1', 'Regulon - Nkx3-2', 'Regulon - Noto', 'Regulon - Npdc1', 'Regulon - Nr1d1', 'Regulon - Nr1h3', 'Regulon - Nr2c1', 'Regulon - Nr2c2', 'Regulon - Nr2f6', 'Regulon - Nr3c1', 'Regulon - Nr5a2', 'Regulon - Nrf1', 'Regulon - Onecut2', 'Regulon - Onecut3', 'Regulon - Osr2', 'Regulon - Otp', 'Regulon - Ovol1', 'Regulon - Ovol2', 'Regulon - Patz1', 'Regulon - Pax2', 'Regulon - Pax3', 'Regulon - Pax4', 'Regulon - Pax5', 'Regulon - Pax6', 'Regulon - Pbx1', 'Regulon - Pbx2', 'Regulon - Pbx3', 'Regulon - Pck2', 'Regulon - Phf8', 'Regulon - Phox2a', 'Regulon - Phox2b', 'Regulon - Plagl1', 'Regulon - Pml', 'Regulon - Pole3', 'Regulon - Polr3a', 'Regulon - Polr3g', 'Regulon - Pou2f1', 'Regulon - Pou2f3', 'Regulon - Pou3f1', 'Regulon - Pou3f2', 'Regulon - Pou3f3', 'Regulon - Pou3f4', 'Regulon - Pou4f1', 'Regulon - Pou4f2', 'Regulon - Pou4f3', 'Regulon - Pou5f1', 'Regulon - Pou6f1', 'Regulon - Ppara', 'Regulon - Pparg', 'Regulon - Ppargc1a', 'Regulon - Prrx1', 'Regulon - Prrx2', 'Regulon - Rad21', 'Regulon - Rara', 'Regulon - Rarg', 'Regulon - Rax', 'Regulon - Rbbp5', 'Regulon - Rcor1', 'Regulon - Rel', 'Regulon - Rela', 'Regulon - Rest', 'Regulon - Rfx1', 'Regulon - Rfx3', 'Regulon - Rfx4', 'Regulon - Rfxank', 'Regulon - Rfxap', 'Regulon - Rorc', 'Regulon - Rxra', 'Regulon - Rxrb', 'Regulon - Rxrg', 'Regulon - Setbp1', 'Regulon - Setdb1', 'Regulon - Shox2', 'Regulon - Sin3a', 'Regulon - Six1', 'Regulon - Six3', 'Regulon - Six4', 'Regulon - Smad5', 'Regulon - Smarca4', 'Regulon - Smarcc2', 'Regulon - Smc3', 'Regulon - Smok2a', 'Regulon - Smok2b', 'Regulon - Sox10', 'Regulon - Sox11', 'Regulon - Sox12', 'Regulon - Sox13', 'Regulon - Sox15', 'Regulon - Sox17', 'Regulon - Sox18', 'Regulon - Sox2', 'Regulon - Sox21', 'Regulon - Sox3', 'Regulon - Sox4', 'Regulon - Sox5', 'Regulon - Sox6', 'Regulon - Sox7', 'Regulon - Sox8', 'Regulon - Sp1', 'Regulon - Sp2', 'Regulon - Sp3', 'Regulon - Sp4', 'Regulon - Spdef', 'Regulon - Spi1', 'Regulon - Spib', 'Regulon - Srebf1', 'Regulon - Srebf2', 'Regulon - Srf', 'Regulon - Stat1', 'Regulon - Stat3', 'Regulon - Stat4', 'Regulon - Stat5a', 'Regulon - Stat5b', 'Regulon - Supt20', 'Regulon - Suz12', 'Regulon - T', 'Regulon - Taf1', 'Regulon - Taf7', 'Regulon - Tal1', 'Regulon - Tbl1xr1', 'Regulon - Tbpl2', 'Regulon - Tbx10', 'Regulon - Tbx21', 'Regulon - Tbx22', 'Regulon - Tbx4', 'Regulon - Tbx5', 'Regulon - Tbx6', 'Regulon - Tcf21', 'Regulon - Tcf3', 'Regulon - Tcf7', 'Regulon - Tcf7l1', 'Regulon - Tcf7l2', 'Regulon - Tead2', 'Regulon - Tead3', 'Regulon - Tead4', 'Regulon - Tef', 'Regulon - Tfdp1', 'Regulon - Tfdp2', 'Regulon - Tfeb', 'Regulon - Tfec', 'Regulon - Tff3', 'Regulon - Tgif1', 'Regulon - Tgif2', 'Regulon - Thra', 'Regulon - Thrb', 'Regulon - Tlx1', 'Regulon - Tlx2', 'Regulon - Tlx3', 'Regulon - Trim28', 'Regulon - Trp53', 'Regulon - Twist1', 'Regulon - Twist2', 'Regulon - Ubtf', 'Regulon - Uncx', 'Regulon - Usf2', 'Regulon - Vax1', 'Regulon - Vsx1', 'Regulon - Vsx2', 'Regulon - Wrnip1', 'Regulon - Wt1', 'Regulon - Yeats4', 'Regulon - Yy1', 'Regulon - Zbtb14', 'Regulon - Zbtb17', 'Regulon - Zbtb2', 'Regulon - Zbtb33', 'Regulon - Zbtb37', 'Regulon - Zbtb49', 'Regulon - Zbtb7a', 'Regulon - Zeb1', 'Regulon - Zfhx2', 'Regulon - Zfhx3', 'Regulon - Zfp110', 'Regulon - Zfp119b', 'Regulon - Zfp143', 'Regulon - Zfp148', 'Regulon - Zfp184', 'Regulon - Zfp239', 'Regulon - Zfp263', 'Regulon - Zfp281', 'Regulon - Zfp362', 'Regulon - Zfp369', 'Regulon - Zfp407', 'Regulon - Zfp433', 'Regulon - Zfp523', 'Regulon - Zfp560', 'Regulon - Zfp583', 'Regulon - Zfp595', 'Regulon - Zfp639', 'Regulon - Zfp64', 'Regulon - Zfp683', 'Regulon - Zfp708', 'Regulon - Zfp729b', 'Regulon - Zfp740', 'Regulon - Zfp771', 'Regulon - Zfp846', 'Regulon - Zfp872', 'Regulon - Zfp930', 'Regulon - Zfp932', 'Regulon - Zfp950', 'Regulon - Zfp960', 'Regulon - Zfp97', 'Regulon - Zfp973', 'Regulon - Zfx', 'Regulon - Zkscan7', 'Regulon - Zmiz1', 'Regulon - Zscan20', 'Regulon - Zscan22', 'Regulon - Zscan4c', 'Regulon - Zscan5b', 'Module_1', 'Module_2', 'Module_3', 'Module_4', 'Module_5', 'Module_6', 'Module_7', 'Module_8', 'Module_9', 'Module_10', 'Module_11', 'Module_12', 'Module_13', 'Module_14', 'Module_15', 'Module_16', 'Module_17', 'Module_18', 'Module_19', 'Module_20', 'Module_21', 'Module_22', 'Module_23', 'Module_24', 'Module_25', 'Module_26', 'Module_27', 'Module_28', 'Module_29', 'Module_30', 'pct_counts_in_top_50_genes', 'pct_counts_in_top_100_genes', 'pct_counts_in_top_200_genes', 'pct_counts_in_top_500_genes'\n",
            "    var: 'n_cells', 'n_cells_by_counts', 'mean_counts', 'log1p_mean_counts', 'pct_dropout_by_counts', 'total_counts', 'log1p_total_counts', 'Regulon - Aco1', 'Regulon - Adarb1', 'Regulon - Anxa1', 'Regulon - Arid3c', 'Regulon - Atf2', 'Regulon - Atf6b', 'Regulon - Atoh1', 'Regulon - Barhl1', 'Regulon - Barhl2', 'Regulon - Bclaf1', 'Regulon - Bdp1', 'Regulon - Borcs8', 'Regulon - Brca1', 'Regulon - Cebpd', 'Regulon - Creb3l2', 'Regulon - Cux1', 'Regulon - Dbp', 'Regulon - Dbx1', 'Regulon - Dlx1', 'Regulon - Dlx2', 'Regulon - Dlx5', 'Regulon - Dlx6', 'Regulon - E2f1', 'Regulon - E2f2', 'Regulon - E2f3', 'Regulon - E2f4', 'Regulon - E2f5', 'Regulon - E2f6', 'Regulon - E2f7', 'Regulon - E2f8', 'Regulon - Elf1', 'Regulon - Elf2', 'Regulon - Elk3', 'Regulon - Emx1', 'Regulon - Emx2', 'Regulon - Esrra', 'Regulon - Esrrg', 'Regulon - Ets1', 'Regulon - Ets2', 'Regulon - Etv5', 'Regulon - Evx1', 'Regulon - Evx2', 'Regulon - Ezh2', 'Regulon - Fli1', 'Regulon - Foxa1', 'Regulon - Foxa2', 'Regulon - Foxf2', 'Regulon - Foxl2', 'Regulon - Foxn4', 'Regulon - Foxp1', 'Regulon - Gabpa', 'Regulon - Gata1', 'Regulon - Gata2', 'Regulon - Gata3', 'Regulon - Gata5', 'Regulon - Gli1', 'Regulon - Grhpr', 'Regulon - Gsx1', 'Regulon - Gsx2', 'Regulon - Gtf2b', 'Regulon - Gtf2f1', 'Regulon - Gtf2ird1', 'Regulon - Gtf3c2', 'Regulon - Hdac2', 'Regulon - Hdx', 'Regulon - Hes1', 'Regulon - Hesx1', 'Regulon - Hinfp', 'Regulon - Hmg20a', 'Regulon - Hmgb3', 'Regulon - Hoxa2', 'Regulon - Hoxa3', 'Regulon - Hoxa4', 'Regulon - Hoxa5', 'Regulon - Hoxa9', 'Regulon - Hoxb1', 'Regulon - Hoxb4', 'Regulon - Hoxb5', 'Regulon - Hoxb6', 'Regulon - Hoxb8', 'Regulon - Hoxb9', 'Regulon - Hoxc5', 'Regulon - Hoxc9', 'Regulon - Hoxd9', 'Regulon - Hsf2', 'Regulon - Ikzf2', 'Regulon - Irf5', 'Regulon - Irf8', 'Regulon - Irx1', 'Regulon - Irx4', 'Regulon - Irx6', 'Regulon - Isl2', 'Regulon - Jdp2', 'Regulon - Jun', 'Regulon - Junb', 'Regulon - Jund', 'Regulon - Kat2a', 'Regulon - Kdm5a', 'Regulon - Kdm5b', 'Regulon - Klf15', 'Regulon - Klf2', 'Regulon - Klf6', 'Regulon - Kmt2a', 'Regulon - Lbx1', 'Regulon - Lef1', 'Regulon - Lhx1', 'Regulon - Lhx2', 'Regulon - Lhx3', 'Regulon - Lhx4', 'Regulon - Lhx5', 'Regulon - Lhx6', 'Regulon - Lhx8', 'Regulon - Lhx9', 'Regulon - Lmx1a', 'Regulon - Lmx1b', 'Regulon - Maff', 'Regulon - Mafg', 'Regulon - Mbd1', 'Regulon - Mef2d', 'Regulon - Myb', 'Regulon - Mybl1', 'Regulon - Mycn', 'Regulon - Myog', 'Regulon - Nanos1', 'Regulon - Neurod1', 'Regulon - Nfat5', 'Regulon - Nfatc4', 'Regulon - Nfe2', 'Regulon - Nfe2l1', 'Regulon - Nfe2l2', 'Regulon - Nfia', 'Regulon - Nfil3', 'Regulon - Nfkb1', 'Regulon - Nhlh1', 'Regulon - Nkx1-1', 'Regulon - Nkx1-2', 'Regulon - Nkx6-1', 'Regulon - Nkx6-2', 'Regulon - Nkx6-3', 'Regulon - Nr2c1', 'Regulon - Nr2e1', 'Regulon - Nr2f6', 'Regulon - Onecut1', 'Regulon - Onecut2', 'Regulon - Onecut3', 'Regulon - Otp', 'Regulon - Otx1', 'Regulon - Otx2', 'Regulon - Patz1', 'Regulon - Pax5', 'Regulon - Pax8', 'Regulon - Phf8', 'Regulon - Phox2a', 'Regulon - Phox2b', 'Regulon - Pitx3', 'Regulon - Pole4', 'Regulon - Pou2f1', 'Regulon - Pou3f1', 'Regulon - Pou3f2', 'Regulon - Pou3f3', 'Regulon - Pou3f4', 'Regulon - Pou4f3', 'Regulon - Pou6f1', 'Regulon - Ppara', 'Regulon - Prdx5', 'Regulon - Prrxl1', 'Regulon - Rax', 'Regulon - Rela', 'Regulon - Rfx1', 'Regulon - Rfx2', 'Regulon - Rfx3', 'Regulon - Rora', 'Regulon - Sall2', 'Regulon - Sf1', 'Regulon - Shox2', 'Regulon - Six1', 'Regulon - Six2', 'Regulon - Smad1', 'Regulon - Smad5', 'Regulon - Smarca4', 'Regulon - Sox11', 'Regulon - Sox12', 'Regulon - Sox14', 'Regulon - Sox17', 'Regulon - Sox4', 'Regulon - Sox9', 'Regulon - Sp1', 'Regulon - Sp2', 'Regulon - Spats2', 'Regulon - Spi1', 'Regulon - Srebf1', 'Regulon - Srebf2', 'Regulon - Srf', 'Regulon - Stat6', 'Regulon - Taf1', 'Regulon - Tagln2', 'Regulon - Tal1', 'Regulon - Tbp', 'Regulon - Tbr1', 'Regulon - Tbx19', 'Regulon - Tcf7', 'Regulon - Tcf7l1', 'Regulon - Tcf7l2', 'Regulon - Tead1', 'Regulon - Tfap4', 'Regulon - Tfdp1', 'Regulon - Tfdp2', 'Regulon - Thap11', 'Regulon - Tia1', 'Regulon - Tlx1', 'Regulon - Tlx3', 'Regulon - Trim28', 'Regulon - Twist1', 'Regulon - Ubp1', 'Regulon - Uncx', 'Regulon - Usf1', 'Regulon - Usf2', 'Regulon - Vax1', 'Regulon - Vsx1', 'Regulon - Wt1', 'Regulon - Xbp1', 'Regulon - Yy1', 'Regulon - Zbtb14', 'Regulon - Zbtb33', 'Regulon - Zeb1', 'Regulon - Zfhx2', 'Regulon - Zfp143', 'Regulon - Zfp362', 'Regulon - Zfp740', 'Regulon - Zfp770', 'Regulon - Zic2', 'Regulon - Zmat4'\n",
            "    uns: 'annotation_colors', 'log1p'\n",
            "    obsm: 'spatial'\n",
            "    varm: 'PCs'\n",
            "    layers: 'count'\n",
            "AnnData object with n_obs × n_vars = 50140 × 20379\n",
            "    obs: 'annotation'\n",
            "    var: 'Gene', 'n_cells'\n",
            "    uns: 'annotation_colors', 'log1p'\n",
            "    obsm: 'spatial'\n",
            "    layers: 'counts'\n"
          ]
        }
      ]
    },
    {
      "cell_type": "code",
      "source": [
        "import scipy.sparse\n",
        "\n",
        "def calculate_entropy(X):\n",
        "\n",
        "    X = X.toarray().flatten()  # Convert sparse matrix to dense array\n",
        "    _, counts = np.unique(X, return_counts=True)\n",
        "    probs = counts / len(X)\n",
        "    entropy = -np.sum(probs * np.log2(probs + 1e-12))\n",
        "    return entropy"
      ],
      "metadata": {
        "id": "MYuYFVaVgVL4"
      },
      "execution_count": 1,
      "outputs": []
    },
    {
      "cell_type": "code",
      "source": [
        "def detect_spatially_variable_genes(adata, threshold):\n",
        "    entropy_values = []\n",
        "    for gene in adata.var_names:\n",
        "        gene_expression = adata[:, gene].X\n",
        "        entropy = calculate_entropy(gene_expression)\n",
        "        entropy_values.append(entropy)\n",
        "\n",
        "    normalized_entropy = (entropy_values - np.min(entropy_values)) / (np.max(entropy_values) - np.min(entropy_values))\n",
        "\n",
        "    svg_indices = np.where(normalized_entropy > threshold)[0]\n",
        "    svg_genes = [adata.var_names[i] for i in svg_indices]\n",
        "\n",
        "    return svg_genes"
      ],
      "metadata": {
        "id": "mQFW-kZlgZYq"
      },
      "execution_count": null,
      "outputs": []
    },
    {
      "cell_type": "code",
      "source": [
        "threshold = 0.6\n",
        "svg_genes_embryo = detect_spatially_variable_genes(anndata_embryo, threshold)\n",
        "\n",
        "svg_genes_brain = detect_spatially_variable_genes(anndata_brain, threshold)\n",
        "\n",
        "print(\"Spatially variable genes in Mouse Embryo 9.5 sample:\", len(svg_genes_embryo))\n",
        "print(\"Spatially variable genes in Mouse Brain sample:\", len(svg_genes_brain))"
      ],
      "metadata": {
        "colab": {
          "base_uri": "https://localhost:8080/"
        },
        "id": "ofxEVAQLgdqO",
        "outputId": "132aa5b1-36a1-42e1-920c-e7b608baa192"
      },
      "execution_count": null,
      "outputs": [
        {
          "output_type": "stream",
          "name": "stdout",
          "text": [
            "Spatially variable genes in Mouse Embryo 9.5 sample: 1669\n",
            "Spatially variable genes in Mouse Brain sample: 73\n"
          ]
        }
      ]
    },
    {
      "cell_type": "code",
      "source": [
        "def save_genes_to_txt(genes, filename):\n",
        "    with open(filename, 'w') as file:\n",
        "        for gene in genes:\n",
        "            file.write(gene + '\\n')\n",
        "\n",
        "embryo_filename = 'svg_genes_embryo_06.txt'\n",
        "brain_filename = 'svg_genes_brain_06.txt'\n",
        "\n",
        "save_genes_to_txt(svg_genes_embryo, embryo_filename)\n",
        "\n",
        "save_genes_to_txt(svg_genes_brain, brain_filename)\n",
        "\n",
        "print(f\"Spatially variable genes for Mouse Embryo 9.5 saved to '{embryo_filename}'.\")\n",
        "print(f\"Spatially variable genes for Mouse Brain saved to '{brain_filename}'.\")"
      ],
      "metadata": {
        "colab": {
          "base_uri": "https://localhost:8080/"
        },
        "id": "IJrs5o9_tjMe",
        "outputId": "0a46c8a2-7a91-43fe-fd51-8c0db57da46a"
      },
      "execution_count": null,
      "outputs": [
        {
          "output_type": "stream",
          "name": "stdout",
          "text": [
            "Spatially variable genes for Mouse Embryo 9.5 saved to 'svg_genes_embryo_06.txt'.\n",
            "Spatially variable genes for Mouse Brain saved to 'svg_genes_brain_06.txt'.\n"
          ]
        }
      ]
    }
  ]
}